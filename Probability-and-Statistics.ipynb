{
 "cells": [
  {
   "cell_type": "markdown",
   "metadata": {},
   "source": [
    "# Probability and Statistics "
   ]
  },
  {
   "cell_type": "markdown",
   "metadata": {},
   "source": [
    "### Use of Probability in Machine Learning"
   ]
  },
  {
   "cell_type": "markdown",
   "metadata": {},
   "source": [
    "Believe me or not but whole Machine Learning is based of Probability and Statistics,\n",
    "Let's see how but we need to learn some basic Probability Concepts first"
   ]
  },
  {
   "cell_type": "markdown",
   "metadata": {},
   "source": [
    "###  Difference Between Sample and Population"
   ]
  },
  {
   "cell_type": "markdown",
   "metadata": {},
   "source": [
    "There are two terms, Sample and Population,\n",
    "\n",
    "Population: Includes all members of a defined group that we are collecting information,\n",
    "basically Population is a very large dataset that contains all the entities of whatever we are collecting data.\n",
    "\n",
    "Sample: It is a small part of population.\n",
    "\n",
    "#### Let's understand it by an example\n",
    "Let's assume you are collecting data of weights of all the people on Earth\n",
    "in this example,\n",
    "Population will be data of all the Seven Billion people residing on the Earth and\n",
    "\n",
    "Sample will be a part of that Data that may be of 1 Lac people or 1 thousand people and this Sample data is always derieved from Population"
   ]
  },
  {
   "cell_type": "markdown",
   "metadata": {},
   "source": [
    "### Some Basic terminologies about Probability"
   ]
  },
  {
   "cell_type": "markdown",
   "metadata": {},
   "source": [
    "#### Frequency:\n",
    "No. of times an event occurs with respect to a time frame is frequency,\n",
    "\n",
    "For example,\n",
    "Let's assume there are two people A and B,\n",
    "A comes to you 10 times in a day and B, 3 times a day,\n",
    "So we will say that frequency of coming A in a day is greater than B and this is what Frequency is.\n",
    "\n",
    "#### Relative Frequency:\n",
    "To compute relative frequency, one obtains a frequency count for the total population and a frequency count for a subgroup of the population.\n",
    "The relative frequency for the subgroup is:\n",
    "Relative frequency = Subgroup count / Total count.\n",
    "\n",
    "For Example, \n",
    "You are playing a game(your favourite), you won 9 times out of 15 matches.\n",
    "\n",
    "Here your Frequency of Winning is 9\n",
    "But you Relative Frequency of Winning is 9/15\n",
    "\n",
    "#### Random Variables\n",
    "A random variable,is a variable whose values are numerical outcomes of a random event.\n",
    "\n",
    "There are two types of random variables, discrete and continuous\n",
    "\n",
    "For Example,\n",
    "You tossed a coin so Possible outcomes are Head and Tail\n",
    "and Getting Tail and Getting Head are two Random Variables\n",
    "\n",
    "##### 1. Discrete Random Variables:\n",
    "    The values of these Random Variables are Integers(1,2,3,4, etc), these can't contain Real Values(0.1, 0.001, 0.9, etc.)\n",
    "\n",
    "##### 2. Continuous Random Variables:\n",
    "    The Values of these Random Variables are Continuous(Real Numbers: 1,1.1,1.111,2,3.1 etc)"
   ]
  },
  {
   "cell_type": "markdown",
   "metadata": {},
   "source": [
    "### Some basic terminologies about Statistics"
   ]
  },
  {
   "cell_type": "markdown",
   "metadata": {},
   "source": [
    "#### What is Statistics?\n",
    "Statistics came from word Stats(आंकड़े, Numbers, Some Data)\n",
    "So in statistics we do some operations on Data and get some knowledge out of it.\n",
    "\n",
    "#### Natural Parameters\n",
    "Natural Parameters are some special things which we get out by doing some operations on Data and these are Natural things, we cannot control them they are controlled by the Data and their own nature.\n",
    "For Example, Mean, Mode, Median etc.\n",
    "\n",
    "#### 1. Mean:\n",
    "The Mean is the average of the numbers: a calculated \"central\" value of a set of numbers.\n",
    "To Calculate:  Just add up all the numbers, then divide by how many numbers there are.\n",
    "#### 2. Mode:\n",
    "It is number in a Data which has got heighest frequency or which occurs most.\n",
    "To Calculate: Just get the maximum occuring number in Data\n",
    "#### 3. Standard Deviation:\n",
    "It is the Mean of difference of each data value from Mean of Data.\n",
    "To Calculate: 1. Get the Mean of Data\n",
    "              2. Subtract the Mean from each Data Value and apply operation of Modulus on them \n",
    "              3. Take the Mean of Subtracted Values\n",
    "              \n",
    "#### 4. Variance:\n",
    "It is the Square of Standard Deviation\n",
    "To Calculate: Square the value of Standard Deviation\n",
    "### Important: Variance gives us the value of FLUCTUTATIONS in Data"
   ]
  },
  {
   "cell_type": "markdown",
   "metadata": {},
   "source": [
    "## Probability Distribution Functions"
   ]
  },
  {
   "cell_type": "markdown",
   "metadata": {},
   "source": [
    "A Probability Distribution is a mathematical function that, stated in simple terms, can thought of a providing probabilities of occurence of different possible outcomes in an experiment.\n",
    "\n",
    "It is some sort of a Mathematical Formula which gets values of Random Variables as input and gives us value of Relative frequency.\n",
    "\n",
    "And then we plot that Graph of Random Variable vs Relative Frequency and that graph is used to study behaviour of Data"
   ]
  },
  {
   "cell_type": "code",
   "execution_count": null,
   "metadata": {
    "collapsed": true
   },
   "outputs": [],
   "source": []
  }
 ],
 "metadata": {
  "kernelspec": {
   "display_name": "Python 3",
   "language": "python",
   "name": "python3"
  },
  "language_info": {
   "codemirror_mode": {
    "name": "ipython",
    "version": 3
   },
   "file_extension": ".py",
   "mimetype": "text/x-python",
   "name": "python",
   "nbconvert_exporter": "python",
   "pygments_lexer": "ipython3",
   "version": "3.5.1"
  }
 },
 "nbformat": 4,
 "nbformat_minor": 0
}
